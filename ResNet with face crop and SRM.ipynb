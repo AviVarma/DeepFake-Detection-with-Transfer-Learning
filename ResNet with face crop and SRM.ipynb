{
 "cells": [
  {
   "cell_type": "code",
   "execution_count": 1,
   "metadata": {},
   "outputs": [],
   "source": [
    "import numpy as np\n",
    "import pandas as pd\n",
    "import sklearn as sk\n",
    "import seaborn as sns\n",
    "import tensorflow as tf\n",
    "import matplotlib.pyplot as plt\n",
    "\n",
    "from tensorflow.keras import layers, models\n",
    "\n",
    "from sklearn import metrics\n",
    "from sklearn.metrics import roc_curve, auc\n",
    "from sklearn.model_selection import train_test_split"
   ]
  },
  {
   "cell_type": "code",
   "execution_count": 2,
   "metadata": {},
   "outputs": [],
   "source": [
    "train_file = open(\"./Full-labels-2.txt\")\n",
    "lines = train_file.readlines()\n",
    "train_file.close()\n",
    "\n",
    "filenames = []\n",
    "labels = []\n",
    "\n",
    "for line in lines:\n",
    "    filenames.append('Celeb-DF-Image-Face-Crop-SRM/'+line[2:].rstrip('\\n'))    \n",
    "for l in lines:\n",
    "    labels.append(l[:1])\n",
    "\n",
    "labels = [int(i) for i in labels]\n",
    "\n",
    "train_filenames, val_filenames, train_labels, val_labels = train_test_split(\n",
    "    filenames, labels, train_size=0.85, random_state=420)\n",
    "\n",
    "num_train = len(train_filenames)\n",
    "num_val = len(val_filenames)"
   ]
  },
  {
   "cell_type": "code",
   "execution_count": 3,
   "metadata": {},
   "outputs": [],
   "source": [
    "train_data = tf.data.Dataset.from_tensor_slices((tf.constant(train_filenames), tf.constant(train_labels)))\n",
    "\n",
    "val_data = tf.data.Dataset.from_tensor_slices((tf.constant(val_filenames), tf.constant(val_labels)))"
   ]
  },
  {
   "cell_type": "code",
   "execution_count": 4,
   "metadata": {},
   "outputs": [],
   "source": [
    "#  function that can load the images from file and perform any necessary preprocessing.\n",
    "\n",
    "IMAGE_SIZE = 128\n",
    "BATCH_SIZE = 32\n",
    "\n",
    "def _parse_fn(img, label):\n",
    "    img_string = tf.io.read_file(img)\n",
    "    img_decoded = tf.image.decode_jpeg(img_string)\n",
    "    img_normalized = (tf.cast(img_decoded, tf.float32)/127.5) - 1\n",
    "    img_resized = tf.image.resize(img_normalized, (IMAGE_SIZE, IMAGE_SIZE))\n",
    "    #img_preprocess = tf.keras.applications.resnet_v2.preprocess_input(img_resized)\n",
    "    return img_resized, label\n",
    "\n",
    "train_data = (train_data.map(_parse_fn).shuffle(buffer_size=1000).batch(BATCH_SIZE))\n",
    "val_data = (val_data.map(_parse_fn).shuffle(buffer_size=1000).batch(BATCH_SIZE))"
   ]
  },
  {
   "cell_type": "code",
   "execution_count": 5,
   "metadata": {},
   "outputs": [],
   "source": [
    "IMG_SHAPE = (IMAGE_SIZE, IMAGE_SIZE, 3)\n",
    "base_model = tf.keras.applications.ResNet50V2(\n",
    "    include_top=False, weights=\"imagenet\",\n",
    "    input_shape=IMG_SHAPE, pooling=\"max\", classes=2,\n",
    "    classifier_activation=\"relu\"\n",
    ")"
   ]
  },
  {
   "cell_type": "code",
   "execution_count": 6,
   "metadata": {},
   "outputs": [],
   "source": [
    "base_model.trainable = False"
   ]
  },
  {
   "cell_type": "code",
   "execution_count": 7,
   "metadata": {},
   "outputs": [
    {
     "name": "stdout",
     "output_type": "stream",
     "text": [
      "Model: \"sequential\"\n",
      "_________________________________________________________________\n",
      "Layer (type)                 Output Shape              Param #   \n",
      "=================================================================\n",
      "resnet50v2 (Functional)      (None, 2048)              23564800  \n",
      "_________________________________________________________________\n",
      "dense (Dense)                (None, 1)                 2049      \n",
      "=================================================================\n",
      "Total params: 23,566,849\n",
      "Trainable params: 2,049\n",
      "Non-trainable params: 23,564,800\n",
      "_________________________________________________________________\n"
     ]
    }
   ],
   "source": [
    "prediction_layer = tf.keras.layers.Dense(1, activation='sigmoid')\n",
    "\n",
    "model = tf.keras.Sequential([\n",
    "    base_model,\n",
    "    prediction_layer\n",
    "])\n",
    "\n",
    "model.summary()"
   ]
  },
  {
   "cell_type": "code",
   "execution_count": 8,
   "metadata": {},
   "outputs": [],
   "source": [
    "model.compile(optimizer=tf.keras.optimizers.Adam(lr=0.0001),\n",
    "             loss='binary_crossentropy',\n",
    "             metrics=['accuracy'])"
   ]
  },
  {
   "cell_type": "code",
   "execution_count": 9,
   "metadata": {
    "scrolled": true
   },
   "outputs": [
    {
     "name": "stdout",
     "output_type": "stream",
     "text": [
      "Epoch 1/40\n",
      "100/100 [==============================] - 50s 496ms/step - loss: 0.6488 - accuracy: 0.6559 - val_loss: 0.4579 - val_accuracy: 0.8516\n",
      "Epoch 2/40\n",
      "100/100 [==============================] - 49s 489ms/step - loss: 0.4462 - accuracy: 0.8579 - val_loss: 0.4283 - val_accuracy: 0.8687\n",
      "Epoch 3/40\n",
      "100/100 [==============================] - 48s 478ms/step - loss: 0.4042 - accuracy: 0.8734 - val_loss: 0.4270 - val_accuracy: 0.8625\n",
      "Epoch 4/40\n",
      "100/100 [==============================] - 49s 490ms/step - loss: 0.4132 - accuracy: 0.8655 - val_loss: 0.4164 - val_accuracy: 0.8687\n",
      "Epoch 5/40\n",
      "100/100 [==============================] - 50s 498ms/step - loss: 0.4206 - accuracy: 0.8607 - val_loss: 0.4235 - val_accuracy: 0.8594\n",
      "Epoch 6/40\n",
      "100/100 [==============================] - 50s 505ms/step - loss: 0.3875 - accuracy: 0.8731 - val_loss: 0.3957 - val_accuracy: 0.8734\n",
      "Epoch 7/40\n",
      "100/100 [==============================] - 49s 494ms/step - loss: 0.3955 - accuracy: 0.8670 - val_loss: 0.3984 - val_accuracy: 0.8703\n",
      "Epoch 8/40\n",
      "100/100 [==============================] - 48s 485ms/step - loss: 0.3972 - accuracy: 0.8661 - val_loss: 0.4264 - val_accuracy: 0.8625\n",
      "Epoch 9/40\n",
      "100/100 [==============================] - 48s 485ms/step - loss: 0.3850 - accuracy: 0.8687 - val_loss: 0.4461 - val_accuracy: 0.8500\n",
      "Epoch 10/40\n",
      "100/100 [==============================] - 49s 487ms/step - loss: 0.3911 - accuracy: 0.8658 - val_loss: 0.4096 - val_accuracy: 0.8641\n",
      "Epoch 11/40\n",
      "100/100 [==============================] - 49s 491ms/step - loss: 0.3883 - accuracy: 0.8667 - val_loss: 0.3864 - val_accuracy: 0.8734\n",
      "Epoch 12/40\n",
      "100/100 [==============================] - 49s 488ms/step - loss: 0.3771 - accuracy: 0.8712 - val_loss: 0.3877 - val_accuracy: 0.8719\n",
      "Epoch 13/40\n",
      "100/100 [==============================] - 50s 501ms/step - loss: 0.3901 - accuracy: 0.8626 - val_loss: 0.3775 - val_accuracy: 0.8766\n",
      "Epoch 14/40\n",
      "100/100 [==============================] - 49s 489ms/step - loss: 0.3701 - accuracy: 0.8715 - val_loss: 0.3723 - val_accuracy: 0.8781\n",
      "Epoch 15/40\n",
      "100/100 [==============================] - 49s 488ms/step - loss: 0.3812 - accuracy: 0.8659 - val_loss: 0.3769 - val_accuracy: 0.8766\n",
      "Epoch 16/40\n",
      "100/100 [==============================] - 49s 488ms/step - loss: 0.3813 - accuracy: 0.8652 - val_loss: 0.4023 - val_accuracy: 0.8625\n",
      "Epoch 17/40\n",
      "100/100 [==============================] - 48s 476ms/step - loss: 0.3772 - accuracy: 0.8684 - val_loss: 0.4092 - val_accuracy: 0.8625\n",
      "Epoch 18/40\n",
      "100/100 [==============================] - 49s 495ms/step - loss: 0.3820 - accuracy: 0.8639 - val_loss: 0.4084 - val_accuracy: 0.8609\n",
      "Epoch 19/40\n",
      "100/100 [==============================] - 49s 486ms/step - loss: 0.3739 - accuracy: 0.8680 - val_loss: 0.3923 - val_accuracy: 0.8672\n",
      "Epoch 20/40\n",
      "100/100 [==============================] - 49s 491ms/step - loss: 0.3691 - accuracy: 0.8703 - val_loss: 0.3985 - val_accuracy: 0.8687\n",
      "Epoch 21/40\n",
      "100/100 [==============================] - 49s 493ms/step - loss: 0.3734 - accuracy: 0.8648 - val_loss: 0.4068 - val_accuracy: 0.8578\n",
      "Epoch 22/40\n",
      "100/100 [==============================] - 49s 486ms/step - loss: 0.3813 - accuracy: 0.8642 - val_loss: 0.3870 - val_accuracy: 0.8687\n",
      "Epoch 23/40\n",
      "100/100 [==============================] - 49s 486ms/step - loss: 0.3624 - accuracy: 0.8722 - val_loss: 0.4113 - val_accuracy: 0.8594\n",
      "Epoch 24/40\n",
      "100/100 [==============================] - 49s 488ms/step - loss: 0.3802 - accuracy: 0.8620 - val_loss: 0.3870 - val_accuracy: 0.8656\n",
      "Epoch 25/40\n",
      "100/100 [==============================] - 49s 495ms/step - loss: 0.3644 - accuracy: 0.8721 - val_loss: 0.4087 - val_accuracy: 0.8609\n",
      "Epoch 26/40\n",
      "100/100 [==============================] - 52s 524ms/step - loss: 0.3680 - accuracy: 0.8681 - val_loss: 0.3766 - val_accuracy: 0.8750\n",
      "Epoch 27/40\n",
      "100/100 [==============================] - 50s 497ms/step - loss: 0.3746 - accuracy: 0.8629 - val_loss: 0.3955 - val_accuracy: 0.8641\n",
      "Epoch 28/40\n",
      "100/100 [==============================] - 49s 491ms/step - loss: 0.3635 - accuracy: 0.8733 - val_loss: 0.4059 - val_accuracy: 0.8641\n",
      "Epoch 29/40\n",
      "100/100 [==============================] - 49s 495ms/step - loss: 0.3582 - accuracy: 0.8725 - val_loss: 0.3927 - val_accuracy: 0.8672\n",
      "Epoch 30/40\n",
      "100/100 [==============================] - 49s 493ms/step - loss: 0.3826 - accuracy: 0.8607 - val_loss: 0.3912 - val_accuracy: 0.8703\n",
      "Epoch 31/40\n",
      "100/100 [==============================] - 47s 474ms/step - loss: 0.3589 - accuracy: 0.8718 - val_loss: 0.3726 - val_accuracy: 0.8734\n",
      "Epoch 32/40\n",
      "100/100 [==============================] - 50s 496ms/step - loss: 0.3676 - accuracy: 0.8666 - val_loss: 0.3792 - val_accuracy: 0.8734\n",
      "Epoch 33/40\n",
      "100/100 [==============================] - 50s 501ms/step - loss: 0.3622 - accuracy: 0.8699 - val_loss: 0.3793 - val_accuracy: 0.8719\n",
      "Epoch 34/40\n",
      "100/100 [==============================] - 49s 492ms/step - loss: 0.3602 - accuracy: 0.8706 - val_loss: 0.3968 - val_accuracy: 0.8641\n",
      "Epoch 35/40\n",
      "100/100 [==============================] - 49s 495ms/step - loss: 0.3741 - accuracy: 0.8623 - val_loss: 0.4038 - val_accuracy: 0.8531\n",
      "Epoch 36/40\n",
      "100/100 [==============================] - 50s 499ms/step - loss: 0.3688 - accuracy: 0.8680 - val_loss: 0.3631 - val_accuracy: 0.8797\n",
      "Epoch 37/40\n",
      "100/100 [==============================] - 48s 483ms/step - loss: 0.3502 - accuracy: 0.8756 - val_loss: 0.3811 - val_accuracy: 0.8719\n",
      "Epoch 38/40\n",
      "100/100 [==============================] - 51s 506ms/step - loss: 0.3695 - accuracy: 0.8652 - val_loss: 0.3789 - val_accuracy: 0.8734\n",
      "Epoch 39/40\n",
      "100/100 [==============================] - 50s 496ms/step - loss: 0.3694 - accuracy: 0.8652 - val_loss: 0.4149 - val_accuracy: 0.8531\n",
      "Epoch 40/40\n",
      "100/100 [==============================] - 49s 487ms/step - loss: 0.3517 - accuracy: 0.8750 - val_loss: 0.3668 - val_accuracy: 0.8750\n"
     ]
    }
   ],
   "source": [
    "epochs = 40\n",
    "steps_per_epoch = 100\n",
    "val_steps = 20\n",
    "\n",
    "\n",
    "history = model.fit(train_data.repeat(),\n",
    "                      epochs = epochs,\n",
    "                      steps_per_epoch = steps_per_epoch,\n",
    "                      validation_data = val_data.repeat(), \n",
    "                      validation_steps = val_steps)"
   ]
  },
  {
   "cell_type": "code",
   "execution_count": 10,
   "metadata": {},
   "outputs": [],
   "source": [
    "model.save_weights('./ResNet-Weights/weights_epoch_30.h5')"
   ]
  },
  {
   "cell_type": "code",
   "execution_count": 11,
   "metadata": {},
   "outputs": [],
   "source": [
    "history_dict = history.history\n",
    "loss_values = history_dict['loss']\n",
    "val_loss_values = history_dict['val_loss']\n",
    "accuracy = history_dict['accuracy']\n",
    "val_accuracy = history_dict['val_accuracy']"
   ]
  },
  {
   "cell_type": "code",
   "execution_count": 12,
   "metadata": {},
   "outputs": [
    {
     "data": {
      "image/png": "[encoded data removed]",
      "text/plain": [
       "<Figure size 576x576 with 2 Axes>"
      ]
     },
     "metadata": {
      "needs_background": "light"
     },
     "output_type": "display_data"
    }
   ],
   "source": [
    "acc = history.history['accuracy']\n",
    "val_acc = history.history['val_accuracy']\n",
    "\n",
    "loss = history.history['loss']\n",
    "val_loss = history.history['val_loss']\n",
    "\n",
    "plt.figure(figsize=(8, 8))\n",
    "plt.subplot(2, 1, 1)\n",
    "plt.plot(acc, label='Training Accuracy')\n",
    "plt.plot(val_acc, label='Validation Accuracy')\n",
    "plt.legend(loc='lower right')\n",
    "plt.ylabel('Accuracy')\n",
    "plt.title('Training and Validation Accuracy')\n",
    "\n",
    "plt.subplot(2, 1, 2)\n",
    "plt.plot(loss, label='Training Loss')\n",
    "plt.plot(val_loss, label='Validation Loss')\n",
    "plt.legend(loc='upper right')\n",
    "plt.ylabel('Cross Entropy')\n",
    "plt.title('Training and Validation Loss')\n",
    "plt.xlabel('epoch')\n",
    "plt.show()"
   ]
  },
  {
   "cell_type": "code",
   "execution_count": 13,
   "metadata": {},
   "outputs": [
    {
     "name": "stdout",
     "output_type": "stream",
     "text": [
      "28/28 [==============================] - 10s 357ms/step\n"
     ]
    }
   ],
   "source": [
    "pred = model.predict(val_data, verbose=1)"
   ]
  },
  {
   "cell_type": "code",
   "execution_count": 14,
   "metadata": {},
   "outputs": [
    {
     "name": "stdout",
     "output_type": "stream",
     "text": [
      "28/28 [==============================] - 10s 358ms/step - loss: 0.3855 - accuracy: 0.8680\n"
     ]
    },
    {
     "data": {
      "text/plain": [
       "[0.3854508101940155, 0.8679678440093994]"
      ]
     },
     "execution_count": 14,
     "metadata": {},
     "output_type": "execute_result"
    }
   ],
   "source": [
    "model.evaluate(val_data)"
   ]
  },
  {
   "cell_type": "code",
   "execution_count": 15,
   "metadata": {},
   "outputs": [
    {
     "data": {
      "text/plain": [
       "0.5485498972368121"
      ]
     },
     "execution_count": 15,
     "metadata": {},
     "output_type": "execute_result"
    }
   ],
   "source": [
    "from sklearn.metrics import roc_auc_score\n",
    "y_true = np.array(val_labels)\n",
    "y_scores = pred\n",
    "roc_auc_score(y_true, y_scores)"
   ]
  },
  {
   "cell_type": "code",
   "execution_count": 16,
   "metadata": {},
   "outputs": [
    {
     "name": "stdout",
     "output_type": "stream",
     "text": [
      "[[755   0]\n",
      " [116   0]]\n",
      "\n"
     ]
    },
    {
     "data": {
      "image/png": "[encoded data removed]",
      "text/plain": [
       "<Figure size 432x288 with 2 Axes>"
      ]
     },
     "metadata": {
      "needs_background": "light"
     },
     "output_type": "display_data"
    }
   ],
   "source": [
    "tf.math.confusion_matrix(y_true, y_scores)\n",
    "\n",
    "classes=[\"Fake\", \"Real\"]\n",
    "\n",
    "con_mat = tf.math.confusion_matrix(labels=y_true.ravel(), predictions=y_scores.ravel(), num_classes=2).numpy()\n",
    "con_mat_norm = np.around(con_mat.astype('float') / con_mat.sum(axis=1)[:, np.newaxis], decimals=2)\n",
    "print(con_mat)\n",
    "print(\"\")\n",
    " \n",
    "con_mat_df = pd.DataFrame(con_mat_norm,\n",
    "                     index = classes, \n",
    "                     columns = classes)\n",
    "\n",
    "\n",
    "sns.heatmap(con_mat_df, annot=True,cmap=plt.cm.Blues)\n",
    "plt.ylabel('True label')\n",
    "plt.xlabel('Predicted label')\n",
    "plt.show()"
   ]
  },
  {
   "cell_type": "code",
   "execution_count": 17,
   "metadata": {},
   "outputs": [
    {
     "data": {
      "image/png": "[encoded data removed]",
      "text/plain": [
       "<Figure size 432x288 with 1 Axes>"
      ]
     },
     "metadata": {
      "needs_background": "light"
     },
     "output_type": "display_data"
    }
   ],
   "source": [
    "fpr = dict()\n",
    "tpr = dict()\n",
    "roc_auc = dict()\n",
    "fpr, tpr, thresholds = metrics.roc_curve(y_true, y_scores, pos_label=None)\n",
    "roc_auc = auc(fpr, tpr)\n",
    "\n",
    "plt.figure()\n",
    "lw = 2\n",
    "plt.plot(fpr, tpr, color='darkorange',\n",
    "         lw=lw, label='ROC curve (area = %0.2f)' % roc_auc)\n",
    "plt.plot([0, 1], [0, 1], color='navy', lw=lw, linestyle='--')\n",
    "plt.xlim([0.0, 1.0])\n",
    "plt.ylim([0.0, 1.05])\n",
    "plt.xlabel('False Positive Rate')\n",
    "plt.ylabel('True Positive Rate')\n",
    "plt.title('Receiver operating characteristic example')\n",
    "plt.legend(loc=\"lower right\")\n",
    "plt.show()"
   ]
  },
  {
   "cell_type": "code",
   "execution_count": 18,
   "metadata": {},
   "outputs": [
    {
     "name": "stdout",
     "output_type": "stream",
     "text": [
      "              precision    recall  f1-score   support\n",
      "\n",
      "           1       0.00      0.00      0.00       116\n",
      "           0       0.87      1.00      0.93       755\n",
      "\n",
      "    accuracy                           0.86       871\n",
      "   macro avg       0.43      0.50      0.46       871\n",
      "weighted avg       0.75      0.86      0.80       871\n",
      "\n"
     ]
    }
   ],
   "source": [
    "report = metrics.classification_report(y_true,np.round(y_scores),labels=[1,0])\n",
    "print(report)"
   ]
  },
  {
   "cell_type": "code",
   "execution_count": null,
   "metadata": {},
   "outputs": [],
   "source": []
  }
 ],
 "metadata": {
  "kernelspec": {
   "display_name": "Python 3",
   "language": "python",
   "name": "python3"
  },
  "language_info": {
   "codemirror_mode": {
    "name": "ipython",
    "version": 3
   },
   "file_extension": ".py",
   "mimetype": "text/x-python",
   "name": "python",
   "nbconvert_exporter": "python",
   "pygments_lexer": "ipython3",
   "version": "3.8.7"
  }
 },
 "nbformat": 4,
 "nbformat_minor": 4
}
