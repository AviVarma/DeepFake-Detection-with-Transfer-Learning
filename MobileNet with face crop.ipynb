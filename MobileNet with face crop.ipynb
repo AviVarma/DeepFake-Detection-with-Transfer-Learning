{
 "cells": [
  {
   "cell_type": "code",
   "execution_count": 1,
   "metadata": {},
   "outputs": [],
   "source": [
    "import numpy as np\n",
    "import pandas as pd\n",
    "import sklearn as sk\n",
    "import seaborn as sns\n",
    "import tensorflow as tf\n",
    "import matplotlib.pyplot as plt\n",
    "\n",
    "from tensorflow.keras import layers, models\n",
    "\n",
    "from sklearn import metrics\n",
    "from sklearn.metrics import roc_curve, auc\n",
    "from sklearn.model_selection import train_test_split"
   ]
  },
  {
   "cell_type": "code",
   "execution_count": 2,
   "metadata": {},
   "outputs": [],
   "source": [
    "train_file = open(\"./Full-labels-2.txt\")\n",
    "lines = train_file.readlines()\n",
    "train_file.close()\n",
    "\n",
    "filenames = []\n",
    "labels = []\n",
    "\n",
    "for line in lines:\n",
    "    filenames.append('Celeb-DF-Image-Face-Crop/'+line[2:].rstrip('\\n'))    \n",
    "for l in lines:\n",
    "    labels.append(l[:1])\n",
    "\n",
    "labels = [int(i) for i in labels]\n",
    "\n",
    "train_filenames, val_filenames, train_labels, val_labels = train_test_split(\n",
    "    filenames, labels, train_size=0.85, random_state=420)\n",
    "\n",
    "num_train = len(train_filenames)\n",
    "num_val = len(val_filenames)"
   ]
  },
  {
   "cell_type": "code",
   "execution_count": 3,
   "metadata": {},
   "outputs": [],
   "source": [
    "train_data = tf.data.Dataset.from_tensor_slices((tf.constant(train_filenames), tf.constant(train_labels)))\n",
    "\n",
    "val_data = tf.data.Dataset.from_tensor_slices((tf.constant(val_filenames), tf.constant(val_labels)))"
   ]
  },
  {
   "cell_type": "code",
   "execution_count": 4,
   "metadata": {},
   "outputs": [],
   "source": [
    "#  function that can load the images from file and perform any necessary preprocessing.\n",
    "\n",
    "IMAGE_SIZE = 128\n",
    "BATCH_SIZE = 32\n",
    "\n",
    "def _parse_fn(img, label):\n",
    "    img_string = tf.io.read_file(img)\n",
    "    img_decoded = tf.image.decode_jpeg(img_string)\n",
    "    img_normalized = (tf.cast(img_decoded, tf.float32)/127.5) - 1\n",
    "    img_resized = tf.image.resize(img_normalized, (IMAGE_SIZE, IMAGE_SIZE))\n",
    "    #img_preprocess = tf.keras.applications.mobilenet_v2.preprocess_input(img_resized)\n",
    "    return img_resized, label\n",
    "\n",
    "train_data = (train_data.map(_parse_fn).shuffle(buffer_size=1000).batch(BATCH_SIZE))\n",
    "val_data = (val_data.map(_parse_fn).shuffle(buffer_size=1000).batch(BATCH_SIZE))"
   ]
  },
  {
   "cell_type": "code",
   "execution_count": 5,
   "metadata": {},
   "outputs": [],
   "source": [
    "IMG_SHAPE = (IMAGE_SIZE, IMAGE_SIZE, 3)\n",
    "\n",
    "base_model = tf.keras.applications.MobileNetV2(input_shape=IMG_SHAPE,\n",
    "                                               include_top=False, \n",
    "                                               weights='imagenet')"
   ]
  },
  {
   "cell_type": "code",
   "execution_count": 6,
   "metadata": {},
   "outputs": [],
   "source": [
    "base_model.trainable = False"
   ]
  },
  {
   "cell_type": "code",
   "execution_count": 7,
   "metadata": {},
   "outputs": [],
   "source": [
    "#base_model.summary()"
   ]
  },
  {
   "cell_type": "code",
   "execution_count": 8,
   "metadata": {},
   "outputs": [
    {
     "name": "stdout",
     "output_type": "stream",
     "text": [
      "Model: \"sequential\"\n",
      "_________________________________________________________________\n",
      "Layer (type)                 Output Shape              Param #   \n",
      "=================================================================\n",
      "mobilenetv2_1.00_128 (Functi (None, 4, 4, 1280)        2257984   \n",
      "_________________________________________________________________\n",
      "global_max_pooling2d (Global (None, 1280)              0         \n",
      "_________________________________________________________________\n",
      "dense (Dense)                (None, 1)                 1281      \n",
      "=================================================================\n",
      "Total params: 2,259,265\n",
      "Trainable params: 1,281\n",
      "Non-trainable params: 2,257,984\n",
      "_________________________________________________________________\n"
     ]
    }
   ],
   "source": [
    "maxpool_layer = tf.keras.layers.GlobalMaxPooling2D()\n",
    "prediction_layer = tf.keras.layers.Dense(1, activation='sigmoid')\n",
    "\n",
    "learning_rate = 0.0001\n",
    "\n",
    "model = tf.keras.Sequential([\n",
    "    base_model,\n",
    "    maxpool_layer,\n",
    "    prediction_layer\n",
    "])\n",
    "\n",
    "model.compile(optimizer=tf.keras.optimizers.Adam(lr=learning_rate),\n",
    "             loss='binary_crossentropy',\n",
    "             metrics=['accuracy'])\n",
    "\n",
    "model.summary()"
   ]
  },
  {
   "cell_type": "code",
   "execution_count": 10,
   "metadata": {
    "scrolled": true
   },
   "outputs": [
    {
     "name": "stdout",
     "output_type": "stream",
     "text": [
      "Epoch 1/40\n",
      "100/100 [==============================] - 22s 222ms/step - loss: 0.8665 - accuracy: 0.6803 - val_loss: 0.5029 - val_accuracy: 0.8484\n",
      "Epoch 2/40\n",
      "100/100 [==============================] - 19s 190ms/step - loss: 0.5082 - accuracy: 0.8273 - val_loss: 0.4656 - val_accuracy: 0.8422\n",
      "Epoch 3/40\n",
      "100/100 [==============================] - 18s 178ms/step - loss: 0.4724 - accuracy: 0.8469 - val_loss: 0.4715 - val_accuracy: 0.8562\n",
      "Epoch 4/40\n",
      "100/100 [==============================] - 19s 190ms/step - loss: 0.4507 - accuracy: 0.8450 - val_loss: 0.4318 - val_accuracy: 0.8422\n",
      "Epoch 5/40\n",
      "100/100 [==============================] - 19s 186ms/step - loss: 0.4638 - accuracy: 0.8362 - val_loss: 0.4139 - val_accuracy: 0.8625\n",
      "Epoch 6/40\n",
      "100/100 [==============================] - 18s 182ms/step - loss: 0.4258 - accuracy: 0.8566 - val_loss: 0.4530 - val_accuracy: 0.8516\n",
      "Epoch 7/40\n",
      "100/100 [==============================] - 19s 189ms/step - loss: 0.4170 - accuracy: 0.8522 - val_loss: 0.4545 - val_accuracy: 0.8516\n",
      "Epoch 8/40\n",
      "100/100 [==============================] - 19s 187ms/step - loss: 0.4257 - accuracy: 0.8519 - val_loss: 0.4170 - val_accuracy: 0.8484\n",
      "Epoch 9/40\n",
      "100/100 [==============================] - 19s 185ms/step - loss: 0.3814 - accuracy: 0.8659 - val_loss: 0.4087 - val_accuracy: 0.8641\n",
      "Epoch 10/40\n",
      "100/100 [==============================] - 19s 187ms/step - loss: 0.3907 - accuracy: 0.8617 - val_loss: 0.4150 - val_accuracy: 0.8562\n",
      "Epoch 11/40\n",
      "100/100 [==============================] - 19s 188ms/step - loss: 0.3802 - accuracy: 0.8661 - val_loss: 0.4405 - val_accuracy: 0.8625\n",
      "Epoch 12/40\n",
      "100/100 [==============================] - 19s 188ms/step - loss: 0.3834 - accuracy: 0.8659 - val_loss: 0.3993 - val_accuracy: 0.8687\n",
      "Epoch 13/40\n",
      "100/100 [==============================] - 19s 188ms/step - loss: 0.3463 - accuracy: 0.8790 - val_loss: 0.4181 - val_accuracy: 0.8625\n",
      "Epoch 14/40\n",
      "100/100 [==============================] - 19s 188ms/step - loss: 0.3761 - accuracy: 0.8686 - val_loss: 0.3938 - val_accuracy: 0.8672\n",
      "Epoch 15/40\n",
      "100/100 [==============================] - 19s 188ms/step - loss: 0.3587 - accuracy: 0.8772 - val_loss: 0.4124 - val_accuracy: 0.8687\n",
      "Epoch 16/40\n",
      "100/100 [==============================] - 19s 189ms/step - loss: 0.3557 - accuracy: 0.8752 - val_loss: 0.3619 - val_accuracy: 0.8766\n",
      "Epoch 17/40\n",
      "100/100 [==============================] - 18s 179ms/step - loss: 0.3463 - accuracy: 0.8803 - val_loss: 0.3912 - val_accuracy: 0.8656\n",
      "Epoch 18/40\n",
      "100/100 [==============================] - 20s 197ms/step - loss: 0.3486 - accuracy: 0.8806 - val_loss: 0.3673 - val_accuracy: 0.8750\n",
      "Epoch 19/40\n",
      "100/100 [==============================] - 19s 191ms/step - loss: 0.3419 - accuracy: 0.8809 - val_loss: 0.3943 - val_accuracy: 0.8703\n",
      "Epoch 20/40\n",
      "100/100 [==============================] - 18s 184ms/step - loss: 0.3326 - accuracy: 0.8822 - val_loss: 0.3517 - val_accuracy: 0.8828\n",
      "Epoch 21/40\n",
      "100/100 [==============================] - 20s 197ms/step - loss: 0.3339 - accuracy: 0.8809 - val_loss: 0.3781 - val_accuracy: 0.8844\n",
      "Epoch 22/40\n",
      "100/100 [==============================] - 19s 192ms/step - loss: 0.3399 - accuracy: 0.8831 - val_loss: 0.3485 - val_accuracy: 0.8938\n",
      "Epoch 23/40\n",
      "100/100 [==============================] - 19s 185ms/step - loss: 0.3250 - accuracy: 0.8850 - val_loss: 0.3881 - val_accuracy: 0.8797\n",
      "Epoch 24/40\n",
      "100/100 [==============================] - 20s 200ms/step - loss: 0.3160 - accuracy: 0.8913 - val_loss: 0.3853 - val_accuracy: 0.8766\n",
      "Epoch 25/40\n",
      "100/100 [==============================] - 19s 190ms/step - loss: 0.3308 - accuracy: 0.8790 - val_loss: 0.3559 - val_accuracy: 0.8844\n",
      "Epoch 26/40\n",
      "100/100 [==============================] - 19s 187ms/step - loss: 0.3098 - accuracy: 0.8925 - val_loss: 0.3743 - val_accuracy: 0.8766\n",
      "Epoch 27/40\n",
      "100/100 [==============================] - 19s 192ms/step - loss: 0.3235 - accuracy: 0.8803 - val_loss: 0.3427 - val_accuracy: 0.8875\n",
      "Epoch 28/40\n",
      "100/100 [==============================] - 19s 190ms/step - loss: 0.3104 - accuracy: 0.8878 - val_loss: 0.3254 - val_accuracy: 0.8984\n",
      "Epoch 29/40\n",
      "100/100 [==============================] - 19s 186ms/step - loss: 0.3087 - accuracy: 0.8913 - val_loss: 0.3469 - val_accuracy: 0.8891\n",
      "Epoch 30/40\n",
      "100/100 [==============================] - 19s 188ms/step - loss: 0.3172 - accuracy: 0.8875 - val_loss: 0.3357 - val_accuracy: 0.8938\n",
      "Epoch 31/40\n",
      "100/100 [==============================] - 18s 179ms/step - loss: 0.3018 - accuracy: 0.8938 - val_loss: 0.3525 - val_accuracy: 0.8797\n",
      "Epoch 32/40\n",
      "100/100 [==============================] - 19s 187ms/step - loss: 0.3035 - accuracy: 0.8953 - val_loss: 0.3701 - val_accuracy: 0.8859\n",
      "Epoch 33/40\n",
      "100/100 [==============================] - 19s 192ms/step - loss: 0.3081 - accuracy: 0.8885 - val_loss: 0.3494 - val_accuracy: 0.8922\n",
      "Epoch 34/40\n",
      "100/100 [==============================] - 18s 178ms/step - loss: 0.2994 - accuracy: 0.8950 - val_loss: 0.3522 - val_accuracy: 0.8828\n",
      "Epoch 35/40\n",
      "100/100 [==============================] - 19s 192ms/step - loss: 0.2887 - accuracy: 0.8992 - val_loss: 0.3551 - val_accuracy: 0.8922\n",
      "Epoch 36/40\n",
      "100/100 [==============================] - 19s 187ms/step - loss: 0.2966 - accuracy: 0.8910 - val_loss: 0.3286 - val_accuracy: 0.8922\n",
      "Epoch 37/40\n",
      "100/100 [==============================] - 18s 182ms/step - loss: 0.3059 - accuracy: 0.8916 - val_loss: 0.3577 - val_accuracy: 0.8906\n",
      "Epoch 38/40\n",
      "100/100 [==============================] - 19s 191ms/step - loss: 0.2844 - accuracy: 0.8960 - val_loss: 0.3389 - val_accuracy: 0.8828\n",
      "Epoch 39/40\n",
      "100/100 [==============================] - 19s 189ms/step - loss: 0.3048 - accuracy: 0.8916 - val_loss: 0.2976 - val_accuracy: 0.9078\n",
      "Epoch 40/40\n",
      "100/100 [==============================] - 19s 188ms/step - loss: 0.2783 - accuracy: 0.9006 - val_loss: 0.3210 - val_accuracy: 0.8969\n"
     ]
    }
   ],
   "source": [
    "epochs = 40\n",
    "steps_per_epoch = 100\n",
    "val_steps = 20\n",
    "\n",
    "\n",
    "history = model.fit(train_data.repeat(),\n",
    "                      epochs = epochs,\n",
    "                      steps_per_epoch = steps_per_epoch,\n",
    "                      validation_data = val_data.repeat(), \n",
    "                      validation_steps = val_steps)"
   ]
  },
  {
   "cell_type": "code",
   "execution_count": 11,
   "metadata": {},
   "outputs": [],
   "source": [
    "model.save_weights('./ResNet-SRM-Weights/weights_epoch_30.h5')"
   ]
  },
  {
   "cell_type": "code",
   "execution_count": 12,
   "metadata": {},
   "outputs": [],
   "source": [
    "history_dict = history.history\n",
    "loss_values = history_dict['loss']\n",
    "val_loss_values = history_dict['val_loss']\n",
    "accuracy = history_dict['accuracy']\n",
    "val_accuracy = history_dict['val_accuracy']"
   ]
  },
  {
   "cell_type": "code",
   "execution_count": 13,
   "metadata": {},
   "outputs": [
    {
     "data": {
      "image/png": "[encoded data removed]",
      "text/plain": [
       "<Figure size 576x576 with 2 Axes>"
      ]
     },
     "metadata": {
      "needs_background": "light"
     },
     "output_type": "display_data"
    }
   ],
   "source": [
    "acc = history.history['accuracy']\n",
    "val_acc = history.history['val_accuracy']\n",
    "\n",
    "loss = history.history['loss']\n",
    "val_loss = history.history['val_loss']\n",
    "\n",
    "plt.figure(figsize=(8, 8))\n",
    "plt.subplot(2, 1, 1)\n",
    "plt.plot(acc, label='Training Accuracy')\n",
    "plt.plot(val_acc, label='Validation Accuracy')\n",
    "plt.legend(loc='lower right')\n",
    "plt.ylabel('Accuracy')\n",
    "plt.title('Training and Validation Accuracy')\n",
    "\n",
    "plt.subplot(2, 1, 2)\n",
    "plt.plot(loss, label='Training Loss')\n",
    "plt.plot(val_loss, label='Validation Loss')\n",
    "plt.legend(loc='upper right')\n",
    "plt.ylabel('Cross Entropy')\n",
    "plt.title('Training and Validation Loss')\n",
    "plt.xlabel('epoch')\n",
    "plt.show()"
   ]
  },
  {
   "cell_type": "code",
   "execution_count": 14,
   "metadata": {},
   "outputs": [
    {
     "name": "stdout",
     "output_type": "stream",
     "text": [
      "28/28 [==============================] - 3s 117ms/step\n"
     ]
    }
   ],
   "source": [
    "pred = model.predict(val_data, verbose=1)"
   ]
  },
  {
   "cell_type": "code",
   "execution_count": 15,
   "metadata": {},
   "outputs": [
    {
     "name": "stdout",
     "output_type": "stream",
     "text": [
      "28/28 [==============================] - 3s 119ms/step - loss: 0.3355 - accuracy: 0.8932\n"
     ]
    },
    {
     "data": {
      "text/plain": [
       "[0.3355223536491394, 0.8932262063026428]"
      ]
     },
     "execution_count": 15,
     "metadata": {},
     "output_type": "execute_result"
    }
   ],
   "source": [
    "model.evaluate(val_data)"
   ]
  },
  {
   "cell_type": "code",
   "execution_count": 16,
   "metadata": {},
   "outputs": [
    {
     "data": {
      "text/plain": [
       "0.5147408084037451"
      ]
     },
     "execution_count": 16,
     "metadata": {},
     "output_type": "execute_result"
    }
   ],
   "source": [
    "from sklearn.metrics import roc_auc_score\n",
    "y_true = np.array(val_labels)\n",
    "y_scores = pred\n",
    "roc_auc_score(y_true, y_scores)"
   ]
  },
  {
   "cell_type": "code",
   "execution_count": 17,
   "metadata": {},
   "outputs": [
    {
     "name": "stdout",
     "output_type": "stream",
     "text": [
      "[[755   0]\n",
      " [116   0]]\n",
      "\n"
     ]
    },
    {
     "data": {
      "image/png": "[encoded data removed]",
      "text/plain": [
       "<Figure size 432x288 with 2 Axes>"
      ]
     },
     "metadata": {
      "needs_background": "light"
     },
     "output_type": "display_data"
    }
   ],
   "source": [
    "tf.math.confusion_matrix(y_true, y_scores)\n",
    "\n",
    "classes=[\"Fake\", \"Real\"]\n",
    "\n",
    "con_mat = tf.math.confusion_matrix(labels=y_true.ravel(), predictions=y_scores.ravel(), num_classes=2).numpy()\n",
    "con_mat_norm = np.around(con_mat.astype('float') / con_mat.sum(axis=1)[:, np.newaxis], decimals=2)\n",
    "print(con_mat)\n",
    "print(\"\")\n",
    " \n",
    "con_mat_df = pd.DataFrame(con_mat_norm,\n",
    "                     index = classes, \n",
    "                     columns = classes)\n",
    "\n",
    "\n",
    "sns.heatmap(con_mat_df, annot=True,cmap=plt.cm.Blues)\n",
    "plt.ylabel('True label')\n",
    "plt.xlabel('Predicted label')\n",
    "plt.show()"
   ]
  },
  {
   "cell_type": "code",
   "execution_count": 18,
   "metadata": {},
   "outputs": [
    {
     "name": "stdout",
     "output_type": "stream",
     "text": [
      "              precision    recall  f1-score   support\n",
      "\n",
      "           1       0.14      0.05      0.08       116\n",
      "           0       0.87      0.95      0.91       755\n",
      "\n",
      "    accuracy                           0.83       871\n",
      "   macro avg       0.50      0.50      0.49       871\n",
      "weighted avg       0.77      0.83      0.80       871\n",
      "\n"
     ]
    }
   ],
   "source": [
    "report = metrics.classification_report(y_true,np.round(y_scores),labels=[1,0])\n",
    "print(report)"
   ]
  },
  {
   "cell_type": "code",
   "execution_count": 19,
   "metadata": {},
   "outputs": [],
   "source": [
    "fpr = dict()\n",
    "tpr = dict()\n",
    "roc_auc = dict()\n",
    "\n",
    "fpr, tpr, thresholds = metrics.roc_curve(y_true, y_scores, pos_label=None)\n",
    "\n",
    "roc_auc = auc(fpr, tpr)"
   ]
  },
  {
   "cell_type": "code",
   "execution_count": 20,
   "metadata": {},
   "outputs": [
    {
     "data": {
      "image/png": "[encoded data removed]",
      "text/plain": [
       "<Figure size 432x288 with 1 Axes>"
      ]
     },
     "metadata": {
      "needs_background": "light"
     },
     "output_type": "display_data"
    }
   ],
   "source": [
    "plt.figure()\n",
    "lw = 2\n",
    "plt.plot(fpr, tpr, color='darkorange',\n",
    "         lw=lw, label='ROC curve (area = %0.2f)' % roc_auc)\n",
    "plt.plot([0, 1], [0, 1], color='navy', lw=lw, linestyle='--')\n",
    "plt.xlim([0.0, 1.0])\n",
    "plt.ylim([0.0, 1.05])\n",
    "plt.xlabel('False Positive Rate')\n",
    "plt.ylabel('True Positive Rate')\n",
    "plt.title('Receiver operating characteristic example')\n",
    "plt.legend(loc=\"lower right\")\n",
    "plt.show()"
   ]
  },
  {
   "cell_type": "code",
   "execution_count": null,
   "metadata": {},
   "outputs": [],
   "source": []
  }
 ],
 "metadata": {
  "kernelspec": {
   "display_name": "Python 3",
   "language": "python",
   "name": "python3"
  },
  "language_info": {
   "codemirror_mode": {
    "name": "ipython",
    "version": 3
   },
   "file_extension": ".py",
   "mimetype": "text/x-python",
   "name": "python",
   "nbconvert_exporter": "python",
   "pygments_lexer": "ipython3",
   "version": "3.8.7"
  }
 },
 "nbformat": 4,
 "nbformat_minor": 4
}
