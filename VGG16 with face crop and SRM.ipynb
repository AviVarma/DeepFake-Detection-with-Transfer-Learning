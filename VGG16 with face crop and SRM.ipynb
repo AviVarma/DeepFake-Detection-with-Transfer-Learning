{
 "cells": [
  {
   "cell_type": "code",
   "execution_count": 1,
   "metadata": {},
   "outputs": [],
   "source": [
    "import numpy as np\n",
    "import pandas as pd\n",
    "import sklearn as sk\n",
    "import seaborn as sns\n",
    "import tensorflow as tf\n",
    "import matplotlib.pyplot as plt\n",
    "\n",
    "from tensorflow.keras import layers, models\n",
    "\n",
    "from sklearn import metrics\n",
    "from sklearn.metrics import roc_curve, auc\n",
    "from sklearn.model_selection import train_test_split"
   ]
  },
  {
   "cell_type": "code",
   "execution_count": 2,
   "metadata": {},
   "outputs": [],
   "source": [
    "train_file = open(\"./Full-labels-2.txt\")\n",
    "lines = train_file.readlines()\n",
    "train_file.close()\n",
    "\n",
    "filenames = []\n",
    "labels = []\n",
    "\n",
    "for line in lines:\n",
    "    filenames.append('Celeb-DF-Image-Face-Crop-SRM/'+line[2:].rstrip('\\n'))    \n",
    "for l in lines:\n",
    "    labels.append(l[:1])\n",
    "\n",
    "labels = [int(i) for i in labels]\n",
    "\n",
    "train_filenames, val_filenames, train_labels, val_labels = train_test_split(\n",
    "    filenames, labels, train_size=0.85, random_state=420)\n",
    "\n",
    "num_train = len(train_filenames)\n",
    "num_val = len(val_filenames)"
   ]
  },
  {
   "cell_type": "code",
   "execution_count": 3,
   "metadata": {},
   "outputs": [],
   "source": [
    "train_data = tf.data.Dataset.from_tensor_slices((tf.constant(train_filenames), tf.constant(train_labels)))\n",
    "\n",
    "val_data = tf.data.Dataset.from_tensor_slices((tf.constant(val_filenames), tf.constant(val_labels)))"
   ]
  },
  {
   "cell_type": "code",
   "execution_count": 4,
   "metadata": {},
   "outputs": [],
   "source": [
    "#  function that can load the images from file and perform any necessary preprocessing.\n",
    "\n",
    "IMAGE_SIZE = 128\n",
    "BATCH_SIZE = 32\n",
    "\n",
    "def _parse_fn(img, label):\n",
    "    img_string = tf.io.read_file(img)\n",
    "    img_decoded = tf.image.decode_jpeg(img_string)\n",
    "    img_normalized = (tf.cast(img_decoded, tf.float32)/127.5) - 1\n",
    "    img_resized = tf.image.resize(img_normalized, (IMAGE_SIZE, IMAGE_SIZE))\n",
    "    #img_preprocess = tf.keras.applications.resnet_v2.preprocess_input(img_resized)\n",
    "    return img_resized, label\n",
    "\n",
    "train_data = (train_data.map(_parse_fn).shuffle(buffer_size=1000).batch(BATCH_SIZE))\n",
    "val_data = (val_data.map(_parse_fn).shuffle(buffer_size=1000).batch(BATCH_SIZE))"
   ]
  },
  {
   "cell_type": "code",
   "execution_count": 5,
   "metadata": {},
   "outputs": [],
   "source": [
    "IMG_SHAPE = (IMAGE_SIZE, IMAGE_SIZE, 3)\n",
    "\n",
    "base_model = tf.keras.applications.VGG16(\n",
    "    include_top=False, weights='imagenet',\n",
    "    input_shape=IMG_SHAPE, pooling=\"max\", classes=2,\n",
    "    classifier_activation='relu'\n",
    ")"
   ]
  },
  {
   "cell_type": "code",
   "execution_count": 6,
   "metadata": {},
   "outputs": [],
   "source": [
    "base_model.trainable = False"
   ]
  },
  {
   "cell_type": "code",
   "execution_count": 7,
   "metadata": {},
   "outputs": [
    {
     "name": "stdout",
     "output_type": "stream",
     "text": [
      "Model: \"sequential\"\n",
      "_________________________________________________________________\n",
      "Layer (type)                 Output Shape              Param #   \n",
      "=================================================================\n",
      "vgg16 (Functional)           (None, 512)               14714688  \n",
      "_________________________________________________________________\n",
      "dense (Dense)                (None, 1)                 513       \n",
      "=================================================================\n",
      "Total params: 14,715,201\n",
      "Trainable params: 513\n",
      "Non-trainable params: 14,714,688\n",
      "_________________________________________________________________\n"
     ]
    }
   ],
   "source": [
    "prediction_layer = tf.keras.layers.Dense(1, activation='sigmoid')\n",
    "\n",
    "model = tf.keras.Sequential([\n",
    "    base_model,\n",
    "    prediction_layer\n",
    "])\n",
    "\n",
    "model.summary()"
   ]
  },
  {
   "cell_type": "code",
   "execution_count": 8,
   "metadata": {},
   "outputs": [],
   "source": [
    "model.compile(optimizer=tf.keras.optimizers.Adam(lr=0.0001),\n",
    "             loss='binary_crossentropy',\n",
    "             metrics=['accuracy'])"
   ]
  },
  {
   "cell_type": "code",
   "execution_count": 9,
   "metadata": {
    "scrolled": true
   },
   "outputs": [
    {
     "name": "stdout",
     "output_type": "stream",
     "text": [
      "Epoch 1/40\n",
      "50/50 [==============================] - 65s 1s/step - loss: 0.6965 - accuracy: 0.4263 - val_loss: 0.5866 - val_accuracy: 0.8547\n",
      "Epoch 2/40\n",
      "50/50 [==============================] - 66s 1s/step - loss: 0.5462 - accuracy: 0.8883 - val_loss: 0.4861 - val_accuracy: 0.8687\n",
      "Epoch 3/40\n",
      "50/50 [==============================] - 63s 1s/step - loss: 0.4866 - accuracy: 0.8509 - val_loss: 0.4391 - val_accuracy: 0.8687\n",
      "Epoch 4/40\n",
      "50/50 [==============================] - 64s 1s/step - loss: 0.4399 - accuracy: 0.8614 - val_loss: 0.4253 - val_accuracy: 0.8609\n",
      "Epoch 5/40\n",
      "50/50 [==============================] - 65s 1s/step - loss: 0.3909 - accuracy: 0.8846 - val_loss: 0.3943 - val_accuracy: 0.8734\n",
      "Epoch 6/40\n",
      "50/50 [==============================] - 64s 1s/step - loss: 0.3837 - accuracy: 0.8795 - val_loss: 0.3923 - val_accuracy: 0.8703\n",
      "Epoch 7/40\n",
      "50/50 [==============================] - 64s 1s/step - loss: 0.4044 - accuracy: 0.8623 - val_loss: 0.3949 - val_accuracy: 0.8672\n",
      "Epoch 8/40\n",
      "50/50 [==============================] - 64s 1s/step - loss: 0.3616 - accuracy: 0.8871 - val_loss: 0.4062 - val_accuracy: 0.8594\n",
      "Epoch 9/40\n",
      "50/50 [==============================] - 65s 1s/step - loss: 0.3605 - accuracy: 0.8858 - val_loss: 0.4028 - val_accuracy: 0.8609\n",
      "Epoch 10/40\n",
      "50/50 [==============================] - 66s 1s/step - loss: 0.3989 - accuracy: 0.8631 - val_loss: 0.3942 - val_accuracy: 0.8656\n",
      "Epoch 11/40\n",
      "50/50 [==============================] - 65s 1s/step - loss: 0.4057 - accuracy: 0.8592 - val_loss: 0.3943 - val_accuracy: 0.8656\n",
      "Epoch 12/40\n",
      "50/50 [==============================] - 65s 1s/step - loss: 0.3939 - accuracy: 0.8659 - val_loss: 0.3854 - val_accuracy: 0.8703\n",
      "Epoch 13/40\n",
      "50/50 [==============================] - 64s 1s/step - loss: 0.3831 - accuracy: 0.8717 - val_loss: 0.3824 - val_accuracy: 0.8719\n",
      "Epoch 14/40\n",
      "50/50 [==============================] - 64s 1s/step - loss: 0.4102 - accuracy: 0.8569 - val_loss: 0.3941 - val_accuracy: 0.8656\n",
      "Epoch 15/40\n",
      "50/50 [==============================] - 65s 1s/step - loss: 0.3776 - accuracy: 0.8744 - val_loss: 0.4116 - val_accuracy: 0.8562\n",
      "Epoch 16/40\n",
      "50/50 [==============================] - 65s 1s/step - loss: 0.3817 - accuracy: 0.8723 - val_loss: 0.3709 - val_accuracy: 0.8781\n",
      "Epoch 17/40\n",
      "50/50 [==============================] - 65s 1s/step - loss: 0.3960 - accuracy: 0.8645 - val_loss: 0.3998 - val_accuracy: 0.8625\n",
      "Epoch 18/40\n",
      "50/50 [==============================] - 65s 1s/step - loss: 0.3926 - accuracy: 0.8664 - val_loss: 0.4089 - val_accuracy: 0.8578\n",
      "Epoch 19/40\n",
      "50/50 [==============================] - 65s 1s/step - loss: 0.3877 - accuracy: 0.8690 - val_loss: 0.3706 - val_accuracy: 0.8781\n",
      "Epoch 20/40\n",
      "50/50 [==============================] - 67s 1s/step - loss: 0.3995 - accuracy: 0.8627 - val_loss: 0.3969 - val_accuracy: 0.8641\n",
      "Epoch 21/40\n",
      "50/50 [==============================] - 64s 1s/step - loss: 0.3856 - accuracy: 0.8701 - val_loss: 0.3586 - val_accuracy: 0.8844\n",
      "Epoch 22/40\n",
      "50/50 [==============================] - 65s 1s/step - loss: 0.4112 - accuracy: 0.8567 - val_loss: 0.3911 - val_accuracy: 0.8672\n",
      "Epoch 23/40\n",
      "50/50 [==============================] - 68s 1s/step - loss: 0.4234 - accuracy: 0.8500 - val_loss: 0.3765 - val_accuracy: 0.8750\n",
      "Epoch 24/40\n",
      "50/50 [==============================] - 66s 1s/step - loss: 0.3859 - accuracy: 0.8700 - val_loss: 0.3854 - val_accuracy: 0.8703\n",
      "Epoch 25/40\n",
      "50/50 [==============================] - 64s 1s/step - loss: 0.3855 - accuracy: 0.8702 - val_loss: 0.4115 - val_accuracy: 0.8562\n",
      "Epoch 26/40\n",
      "50/50 [==============================] - 65s 1s/step - loss: 0.3998 - accuracy: 0.8624 - val_loss: 0.3938 - val_accuracy: 0.8656\n",
      "Epoch 27/40\n",
      "50/50 [==============================] - 65s 1s/step - loss: 0.3962 - accuracy: 0.8645 - val_loss: 0.3824 - val_accuracy: 0.8719\n",
      "Epoch 28/40\n",
      "50/50 [==============================] - 64s 1s/step - loss: 0.4000 - accuracy: 0.8626 - val_loss: 0.4146 - val_accuracy: 0.8547\n",
      "Epoch 29/40\n",
      "50/50 [==============================] - 66s 1s/step - loss: 0.4172 - accuracy: 0.8532 - val_loss: 0.3971 - val_accuracy: 0.8641\n",
      "Epoch 30/40\n",
      "50/50 [==============================] - 65s 1s/step - loss: 0.3717 - accuracy: 0.8775 - val_loss: 0.3554 - val_accuracy: 0.8859\n",
      "Epoch 31/40\n",
      "50/50 [==============================] - 63s 1s/step - loss: 0.4187 - accuracy: 0.8529 - val_loss: 0.3940 - val_accuracy: 0.8656\n",
      "Epoch 32/40\n",
      "50/50 [==============================] - 436s 9s/step - loss: 0.4096 - accuracy: 0.8573 - val_loss: 0.3765 - val_accuracy: 0.8750\n",
      "Epoch 33/40\n",
      "50/50 [==============================] - 66s 1s/step - loss: 0.3672 - accuracy: 0.8801 - val_loss: 0.3881 - val_accuracy: 0.8687\n",
      "Epoch 34/40\n",
      "50/50 [==============================] - 66s 1s/step - loss: 0.3940 - accuracy: 0.8657 - val_loss: 0.3939 - val_accuracy: 0.8656\n",
      "Epoch 35/40\n",
      "50/50 [==============================] - 66s 1s/step - loss: 0.4123 - accuracy: 0.8557 - val_loss: 0.3736 - val_accuracy: 0.8766\n",
      "Epoch 36/40\n",
      "50/50 [==============================] - 66s 1s/step - loss: 0.3964 - accuracy: 0.8643 - val_loss: 0.4234 - val_accuracy: 0.8500\n",
      "Epoch 37/40\n",
      "50/50 [==============================] - 66s 1s/step - loss: 0.3785 - accuracy: 0.8738 - val_loss: 0.3998 - val_accuracy: 0.8625\n",
      "Epoch 38/40\n",
      "50/50 [==============================] - 66s 1s/step - loss: 0.4178 - accuracy: 0.8530 - val_loss: 0.4084 - val_accuracy: 0.8578\n",
      "Epoch 39/40\n",
      "50/50 [==============================] - 66s 1s/step - loss: 0.3864 - accuracy: 0.8698 - val_loss: 0.3737 - val_accuracy: 0.8766\n",
      "Epoch 40/40\n",
      "50/50 [==============================] - 66s 1s/step - loss: 0.3687 - accuracy: 0.8794 - val_loss: 0.4148 - val_accuracy: 0.8547\n"
     ]
    }
   ],
   "source": [
    "epochs = 40\n",
    "steps_per_epoch = 50\n",
    "val_steps = 20\n",
    "\n",
    "\n",
    "history = model.fit(train_data.repeat(),\n",
    "                      epochs = epochs,\n",
    "                      steps_per_epoch = steps_per_epoch,\n",
    "                      validation_data = val_data.repeat(), \n",
    "                      validation_steps = val_steps)"
   ]
  },
  {
   "cell_type": "code",
   "execution_count": 10,
   "metadata": {},
   "outputs": [],
   "source": [
    "#model.save_weights('./ResNet-Weights/weights_epoch_30.h5')"
   ]
  },
  {
   "cell_type": "code",
   "execution_count": 11,
   "metadata": {},
   "outputs": [],
   "source": [
    "history_dict = history.history\n",
    "loss_values = history_dict['loss']\n",
    "val_loss_values = history_dict['val_loss']\n",
    "accuracy = history_dict['accuracy']\n",
    "val_accuracy = history_dict['val_accuracy']"
   ]
  },
  {
   "cell_type": "code",
   "execution_count": 12,
   "metadata": {},
   "outputs": [
    {
     "data": {
      "image/png": "[encoded data removed]",
      "text/plain": [
       "<Figure size 576x576 with 2 Axes>"
      ]
     },
     "metadata": {
      "needs_background": "light"
     },
     "output_type": "display_data"
    }
   ],
   "source": [
    "acc = history.history['accuracy']\n",
    "val_acc = history.history['val_accuracy']\n",
    "\n",
    "loss = history.history['loss']\n",
    "val_loss = history.history['val_loss']\n",
    "\n",
    "plt.figure(figsize=(8, 8))\n",
    "plt.subplot(2, 1, 1)\n",
    "plt.plot(acc, label='Training Accuracy')\n",
    "plt.plot(val_acc, label='Validation Accuracy')\n",
    "plt.legend(loc='lower right')\n",
    "plt.ylabel('Accuracy')\n",
    "plt.title('Training and Validation Accuracy')\n",
    "\n",
    "plt.subplot(2, 1, 2)\n",
    "plt.plot(loss, label='Training Loss')\n",
    "plt.plot(val_loss, label='Validation Loss')\n",
    "plt.legend(loc='upper right')\n",
    "plt.ylabel('Cross Entropy')\n",
    "plt.title('Training and Validation Loss')\n",
    "plt.xlabel('epoch')\n",
    "plt.show()"
   ]
  },
  {
   "cell_type": "code",
   "execution_count": 13,
   "metadata": {},
   "outputs": [
    {
     "name": "stdout",
     "output_type": "stream",
     "text": [
      "28/28 [==============================] - 26s 887ms/step\n"
     ]
    }
   ],
   "source": [
    "pred = model.predict(val_data, verbose=1)"
   ]
  },
  {
   "cell_type": "code",
   "execution_count": 14,
   "metadata": {},
   "outputs": [
    {
     "name": "stdout",
     "output_type": "stream",
     "text": [
      "28/28 [==============================] - 25s 877ms/step - loss: 0.3917 - accuracy: 0.8668\n"
     ]
    },
    {
     "data": {
      "text/plain": [
       "[0.391730934381485, 0.8668197393417358]"
      ]
     },
     "execution_count": 14,
     "metadata": {},
     "output_type": "execute_result"
    }
   ],
   "source": [
    "model.evaluate(val_data)"
   ]
  },
  {
   "cell_type": "code",
   "execution_count": 15,
   "metadata": {},
   "outputs": [
    {
     "data": {
      "text/plain": [
       "0.5294473624115095"
      ]
     },
     "execution_count": 15,
     "metadata": {},
     "output_type": "execute_result"
    }
   ],
   "source": [
    "from sklearn.metrics import roc_auc_score\n",
    "y_true = np.array(val_labels)\n",
    "y_scores = pred\n",
    "roc_auc_score(y_true, y_scores)"
   ]
  },
  {
   "cell_type": "code",
   "execution_count": 16,
   "metadata": {},
   "outputs": [
    {
     "name": "stdout",
     "output_type": "stream",
     "text": [
      "[[755   0]\n",
      " [116   0]]\n",
      "\n"
     ]
    },
    {
     "data": {
      "image/png": "[encoded data removed]",
      "text/plain": [
       "<Figure size 432x288 with 2 Axes>"
      ]
     },
     "metadata": {
      "needs_background": "light"
     },
     "output_type": "display_data"
    }
   ],
   "source": [
    "tf.math.confusion_matrix(y_true, y_scores)\n",
    "\n",
    "classes=[\"Fake\", \"Real\"]\n",
    "\n",
    "con_mat = tf.math.confusion_matrix(labels=y_true.ravel(), predictions=y_scores.ravel(), num_classes=2).numpy()\n",
    "con_mat_norm = np.around(con_mat.astype('float') / con_mat.sum(axis=1)[:, np.newaxis], decimals=2)\n",
    "print(con_mat)\n",
    "print(\"\")\n",
    " \n",
    "con_mat_df = pd.DataFrame(con_mat_norm,\n",
    "                     index = classes, \n",
    "                     columns = classes)\n",
    "\n",
    "\n",
    "sns.heatmap(con_mat_df, annot=True,cmap=plt.cm.Blues)\n",
    "plt.ylabel('True label')\n",
    "plt.xlabel('Predicted label')\n",
    "plt.show()"
   ]
  },
  {
   "cell_type": "code",
   "execution_count": 17,
   "metadata": {},
   "outputs": [
    {
     "data": {
      "image/png": "[encoded data removed]",
      "text/plain": [
       "<Figure size 432x288 with 1 Axes>"
      ]
     },
     "metadata": {
      "needs_background": "light"
     },
     "output_type": "display_data"
    }
   ],
   "source": [
    "fpr = dict()\n",
    "tpr = dict()\n",
    "roc_auc = dict()\n",
    "fpr, tpr, thresholds = metrics.roc_curve(y_true, y_scores, pos_label=None)\n",
    "roc_auc = auc(fpr, tpr)\n",
    "\n",
    "plt.figure()\n",
    "lw = 2\n",
    "plt.plot(fpr, tpr, color='darkorange',\n",
    "         lw=lw, label='ROC curve (area = %0.2f)' % roc_auc)\n",
    "plt.plot([0, 1], [0, 1], color='navy', lw=lw, linestyle='--')\n",
    "plt.xlim([0.0, 1.0])\n",
    "plt.ylim([0.0, 1.05])\n",
    "plt.xlabel('False Positive Rate')\n",
    "plt.ylabel('True Positive Rate')\n",
    "plt.title('Receiver operating characteristic example')\n",
    "plt.legend(loc=\"lower right\")\n",
    "plt.show()"
   ]
  },
  {
   "cell_type": "code",
   "execution_count": 20,
   "metadata": {},
   "outputs": [
    {
     "name": "stdout",
     "output_type": "stream",
     "text": [
      "              precision    recall  f1-score   support\n",
      "\n",
      "           1       0.00      0.00      0.00       116\n",
      "           0       0.87      1.00      0.93       755\n",
      "\n",
      "    accuracy                           0.87       871\n",
      "   macro avg       0.43      0.50      0.46       871\n",
      "weighted avg       0.75      0.87      0.80       871\n",
      "\n"
     ]
    },
    {
     "name": "stderr",
     "output_type": "stream",
     "text": [
      "c:\\users\\avivarma\\appdata\\local\\programs\\python\\python38\\lib\\site-packages\\sklearn\\metrics\\_classification.py:1245: UndefinedMetricWarning: Precision and F-score are ill-defined and being set to 0.0 in labels with no predicted samples. Use `zero_division` parameter to control this behavior.\n",
      "  _warn_prf(average, modifier, msg_start, len(result))\n",
      "c:\\users\\avivarma\\appdata\\local\\programs\\python\\python38\\lib\\site-packages\\sklearn\\metrics\\_classification.py:1245: UndefinedMetricWarning: Precision and F-score are ill-defined and being set to 0.0 in labels with no predicted samples. Use `zero_division` parameter to control this behavior.\n",
      "  _warn_prf(average, modifier, msg_start, len(result))\n",
      "c:\\users\\avivarma\\appdata\\local\\programs\\python\\python38\\lib\\site-packages\\sklearn\\metrics\\_classification.py:1245: UndefinedMetricWarning: Precision and F-score are ill-defined and being set to 0.0 in labels with no predicted samples. Use `zero_division` parameter to control this behavior.\n",
      "  _warn_prf(average, modifier, msg_start, len(result))\n"
     ]
    }
   ],
   "source": [
    "report = metrics.classification_report(y_true,np.round(y_scores),labels=[1,0])\n",
    "print(report)"
   ]
  },
  {
   "cell_type": "code",
   "execution_count": null,
   "metadata": {},
   "outputs": [],
   "source": []
  }
 ],
 "metadata": {
  "kernelspec": {
   "display_name": "Python 3",
   "language": "python",
   "name": "python3"
  },
  "language_info": {
   "codemirror_mode": {
    "name": "ipython",
    "version": 3
   },
   "file_extension": ".py",
   "mimetype": "text/x-python",
   "name": "python",
   "nbconvert_exporter": "python",
   "pygments_lexer": "ipython3",
   "version": "3.8.7"
  }
 },
 "nbformat": 4,
 "nbformat_minor": 4
}
